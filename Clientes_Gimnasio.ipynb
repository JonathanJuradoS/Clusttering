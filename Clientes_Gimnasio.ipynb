{
 "cells": [
  {
   "cell_type": "markdown",
   "id": "19780e68",
   "metadata": {},
   "source": [
    "# Caso: Clientes Gimnasio\n",
    "**Descripción:** Segmentar clientes de gimnasio por pasos y visitas.\n",
    "\n",
    "**Objetivo:** Personalizar planes.\n",
    "\n",
    "**Diccionario de datos:**\n",
    "- `avg_steps`: Promedio de pasos diarios.\n",
    "- `weekly_visits`: Visitas semanales al gimnasio."
   ]
  },
  {
   "cell_type": "markdown",
   "id": "f99831bf",
   "metadata": {},
   "source": [
    "## Paso 1: Carga de datos"
   ]
  },
  {
   "cell_type": "code",
   "execution_count": null,
   "id": "9ef9e646",
   "metadata": {},
   "outputs": [],
   "source": [
    "import pandas as pd\n",
    "import numpy as np\n",
    "from sklearn.preprocessing import StandardScaler\n",
    "from sklearn.cluster import DBSCAN, MeanShift, estimate_bandwidth\n",
    "from sklearn.metrics import silhouette_score\n",
    "import matplotlib.pyplot as plt\n",
    "import seaborn as sns\n",
    "\n",
    "# Cargar dataset\n",
    "df = pd.read_csv(\"/mnt/data/datasets_clustering_reales/Clientes_Gimnasio.csv\")\n",
    "df.head()"
   ]
  },
  {
   "cell_type": "markdown",
   "id": "801a142a",
   "metadata": {},
   "source": [
    "## Paso 2: Preprocesamiento"
   ]
  },
  {
   "cell_type": "code",
   "execution_count": null,
   "id": "6ee8008d",
   "metadata": {},
   "outputs": [],
   "source": [
    "# Normalización\n",
    "scaler = StandardScaler()\n",
    "X = scaler.fit_transform(df)"
   ]
  },
  {
   "cell_type": "markdown",
   "id": "7104116a",
   "metadata": {},
   "source": [
    "## Paso 3: Clustering con DBSCAN"
   ]
  },
  {
   "cell_type": "code",
   "execution_count": null,
   "id": "0e5ea794",
   "metadata": {},
   "outputs": [],
   "source": [
    "dbscan = DBSCAN(eps=0.5, min_samples=5)\n",
    "labels_dbscan = dbscan.fit_predict(X)\n",
    "df['DBSCAN'] = labels_dbscan"
   ]
  },
  {
   "cell_type": "markdown",
   "id": "d7a76e23",
   "metadata": {},
   "source": [
    "## Paso 4: Clustering con Mean-Shift"
   ]
  },
  {
   "cell_type": "code",
   "execution_count": null,
   "id": "29400950",
   "metadata": {},
   "outputs": [],
   "source": [
    "bandwidth = estimate_bandwidth(X, quantile=0.2, n_samples=1000)\n",
    "ms = MeanShift(bandwidth=bandwidth, bin_seeding=True)\n",
    "labels_ms = ms.fit_predict(X)\n",
    "df['MeanShift'] = labels_ms"
   ]
  },
  {
   "cell_type": "markdown",
   "id": "1db3a659",
   "metadata": {},
   "source": [
    "## Paso 5: Visualización de Resultados"
   ]
  },
  {
   "cell_type": "code",
   "execution_count": null,
   "id": "3b97d44a",
   "metadata": {},
   "outputs": [],
   "source": [
    "plt.figure(figsize=(12,5))\n",
    "plt.subplot(1,2,1)\n",
    "sns.scatterplot(x=df.iloc[:,0], y=df.iloc[:,1], hue=df['DBSCAN'], palette='tab10')\n",
    "plt.title(\"DBSCAN\")\n",
    "\n",
    "plt.subplot(1,2,2)\n",
    "sns.scatterplot(x=df.iloc[:,0], y=df.iloc[:,1], hue=df['MeanShift'], palette='tab10')\n",
    "plt.title(\"Mean-Shift\")\n",
    "plt.show()"
   ]
  },
  {
   "cell_type": "markdown",
   "id": "96018a26",
   "metadata": {},
   "source": [
    "## Paso 6: Evaluación con Silhouette Score"
   ]
  },
  {
   "cell_type": "code",
   "execution_count": null,
   "id": "419900e5",
   "metadata": {},
   "outputs": [],
   "source": [
    "def safe_silhouette(X, labels):\n",
    "    n_clusters = len(set(labels)) - (1 if -1 in labels else 0)\n",
    "    return silhouette_score(X, labels) if n_clusters > 1 else -1\n",
    "\n",
    "score_dbscan = safe_silhouette(X, df['DBSCAN'])\n",
    "score_meanshift = safe_silhouette(X, df['MeanShift'])\n",
    "\n",
    "print(f\"Silhouette DBSCAN: {score_dbscan:.4f}\")\n",
    "print(f\"Silhouette Mean-Shift: {score_meanshift:.4f}\")"
   ]
  },
  {
   "cell_type": "markdown",
   "id": "7d8792c1",
   "metadata": {},
   "source": [
    "## Paso 7: Conclusiones"
   ]
  },
  {
   "cell_type": "code",
   "execution_count": null,
   "id": "43bc8ff7",
   "metadata": {},
   "outputs": [],
   "source": [
    "if score_dbscan > score_meanshift:\n",
    "    print(\"DBSCAN obtuvo un mejor desempeño en este caso.\")\n",
    "elif score_meanshift > score_dbscan:\n",
    "    print(\"Mean-Shift obtuvo un mejor desempeño en este caso.\")\n",
    "else:\n",
    "    print(\"Ambos algoritmos obtuvieron resultados similares o no fueron efectivos.\")"
   ]
  }
 ],
 "metadata": {},
 "nbformat": 4,
 "nbformat_minor": 5
}
