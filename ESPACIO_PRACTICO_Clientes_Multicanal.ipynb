{
  "cells": [
    {
      "cell_type": "markdown",
      "metadata": {
        "id": "view-in-github",
        "colab_type": "text"
      },
      "source": [
        "<a href=\"https://colab.research.google.com/github/JonathanJuradoS/Clusttering/blob/main/ESPACIO_PRACTICO_Clientes_Multicanal.ipynb\" target=\"_parent\"><img src=\"https://colab.research.google.com/assets/colab-badge.svg\" alt=\"Open In Colab\"/></a>"
      ]
    },
    {
      "cell_type": "markdown",
      "id": "f152c4bc",
      "metadata": {
        "id": "f152c4bc"
      },
      "source": [
        "# Caso Práctico: Segmentación de Clientes Multicanal\n"
      ]
    },
    {
      "cell_type": "markdown",
      "id": "e012e28d",
      "metadata": {
        "id": "e012e28d"
      },
      "source": [
        "**Descripción:**  \n",
        "Una empresa de retail opera tanto en tiendas físicas como en su plataforma de comercio electrónico. Ha recopilado datos de comportamiento de 5000 clientes que incluyen: el número de visitas a tienda física por mes, cantidad de compras online, tiempo promedio de navegación en la web y monto mensual total de gasto. La empresa desea identificar diferentes perfiles de clientes (presenciales, digitales, híbridos, inactivos) con el fin de personalizar campañas, diseñar promociones dirigidas y optimizar la estrategia comercial multicanal basada en el comportamiento detectado en ambos canales de venta.\n",
        "\n",
        "**Objetivo:**  \n",
        "Aplicar algoritmos de clustering no supervisado para segmentar a los clientes según su comportamiento multicanal y detectar patrones de compra homogéneos para decisiones comerciales estratégicas.\n",
        "\n",
        "**Diccionario de datos:**\n",
        "- `store_visits`: Número promedio de visitas a tienda física por mes.\n",
        "- `online_purchases`: Número de compras realizadas en la tienda online por mes.\n",
        "- `web_session_time`: Tiempo promedio (en minutos) de navegación mensual en la web.\n",
        "- `monthly_spending`: Monto total de gasto mensual del cliente en ambos canales.\n"
      ]
    },
    {
      "cell_type": "markdown",
      "id": "a31ef392",
      "metadata": {
        "id": "a31ef392"
      },
      "source": [
        "## Paso 1: Cargar Librerías y Dataset"
      ]
    },
    {
      "cell_type": "code",
      "execution_count": null,
      "id": "e2760d81",
      "metadata": {
        "id": "e2760d81"
      },
      "outputs": [],
      "source": [
        "# IMPORTANTE: Ejecuta este bloque primero\n",
        "import pandas as pd\n",
        "import numpy as np\n",
        "import matplotlib.pyplot as plt\n",
        "import seaborn as sns\n",
        "from sklearn.preprocessing import StandardScaler\n",
        "from sklearn.cluster import DBSCAN, MeanShift, estimate_bandwidth\n",
        "from sklearn.metrics import silhouette_score\n",
        "\n",
        "# Cargar dataset\n",
        "df = pd.read_csv(\"Caso_Intermedio_Clientes_Multicanal.csv\")\n",
        "df.head()"
      ]
    },
    {
      "cell_type": "markdown",
      "id": "6ecc70de",
      "metadata": {
        "id": "6ecc70de"
      },
      "source": [
        "## Paso 2: Preprocesamiento"
      ]
    },
    {
      "cell_type": "code",
      "execution_count": null,
      "id": "4324b93c",
      "metadata": {
        "id": "4324b93c"
      },
      "outputs": [],
      "source": [
        "# Normaliza los datos usando StandardScaler\n",
        "# Elige las columnas adecuadas para clustering\n",
        "# X = ...\n",
        "# scaler = ...\n",
        "# X_scaled = ...\n"
      ]
    },
    {
      "cell_type": "markdown",
      "id": "0214e70b",
      "metadata": {
        "id": "0214e70b"
      },
      "source": [
        "## Paso 3: Aplicar DBSCAN"
      ]
    },
    {
      "cell_type": "code",
      "execution_count": null,
      "id": "d608d573",
      "metadata": {
        "id": "d608d573"
      },
      "outputs": [],
      "source": [
        "# Aplica DBSCAN\n",
        "# dbscan = ...\n",
        "# labels_dbscan = ...\n",
        "# df['DBSCAN'] = labels_dbscan\n"
      ]
    },
    {
      "cell_type": "markdown",
      "id": "df5176bd",
      "metadata": {
        "id": "df5176bd"
      },
      "source": [
        "## Paso 4: Aplicar Mean-Shift"
      ]
    },
    {
      "cell_type": "code",
      "execution_count": null,
      "id": "98c49840",
      "metadata": {
        "id": "98c49840"
      },
      "outputs": [],
      "source": [
        "# Aplica Mean-Shift\n",
        "# bandwidth = ...\n",
        "# ms = ...\n",
        "# labels_ms = ...\n",
        "# df['MeanShift'] = labels_ms\n"
      ]
    },
    {
      "cell_type": "markdown",
      "id": "66e39885",
      "metadata": {
        "id": "66e39885"
      },
      "source": [
        "## Paso 5: Visualización de Resultados"
      ]
    },
    {
      "cell_type": "code",
      "execution_count": null,
      "id": "a45d6d0f",
      "metadata": {
        "id": "a45d6d0f"
      },
      "outputs": [],
      "source": [
        "# Crea scatterplots para observar los resultados\n",
        "# Puedes usar dos columnas representativas como web_session_time vs. monthly_spending\n"
      ]
    },
    {
      "cell_type": "markdown",
      "id": "be1edae4",
      "metadata": {
        "id": "be1edae4"
      },
      "source": [
        "## Paso 6: Evaluación con Silhouette Score"
      ]
    },
    {
      "cell_type": "code",
      "execution_count": null,
      "id": "26a7b97d",
      "metadata": {
        "id": "26a7b97d"
      },
      "outputs": [],
      "source": [
        "def safe_silhouette(X, labels):\n",
        "    n_clusters = len(set(labels)) - (1 if -1 in labels else 0)\n",
        "    return silhouette_score(X, labels) if n_clusters > 1 else -1\n",
        "\n",
        "# Calcula Silhouette Score para ambos modelos\n",
        "# score_dbscan = ...\n",
        "# score_meanshift = ...\n",
        "# print(...)\n"
      ]
    },
    {
      "cell_type": "markdown",
      "id": "f36e4840",
      "metadata": {
        "id": "f36e4840"
      },
      "source": [
        "## Paso 7: Conclusiones"
      ]
    },
    {
      "cell_type": "markdown",
      "id": "5701a082",
      "metadata": {
        "id": "5701a082"
      },
      "source": [
        "- ¿Cuál algoritmo tuvo mejor desempeño?\n",
        "- ¿Cuántos clústeres detectó cada uno?\n",
        "- ¿Qué características comunes se observan en cada grupo?\n",
        "- ¿Cómo se podrían usar estos resultados en una campaña de marketing?\n"
      ]
    }
  ],
  "metadata": {
    "colab": {
      "provenance": [],
      "include_colab_link": true
    }
  },
  "nbformat": 4,
  "nbformat_minor": 5
}