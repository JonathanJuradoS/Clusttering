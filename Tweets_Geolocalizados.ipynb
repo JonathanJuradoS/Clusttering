{
 "cells": [
  {
   "cell_type": "markdown",
   "id": "f8ce87c8",
   "metadata": {},
   "source": [
    "# Caso: Tweets Geolocalizados\n",
    "**Descripción:** Análisis de tweets según ubicación y horario.\n",
    "\n",
    "**Objetivo:** Detectar zonas de influencia política.\n",
    "\n",
    "**Diccionario de datos:**\n",
    "- `latitude`: Latitud del tweet.\n",
    "- `longitude`: Longitud del tweet.\n",
    "- `tweet_time`: Minuto del día en que se publicó el tweet."
   ]
  },
  {
   "cell_type": "markdown",
   "id": "fc94a320",
   "metadata": {},
   "source": [
    "## Paso 1: Carga de datos"
   ]
  },
  {
   "cell_type": "code",
   "execution_count": null,
   "id": "37d5a875",
   "metadata": {},
   "outputs": [],
   "source": [
    "import pandas as pd\n",
    "import numpy as np\n",
    "from sklearn.preprocessing import StandardScaler\n",
    "from sklearn.cluster import DBSCAN, MeanShift, estimate_bandwidth\n",
    "from sklearn.metrics import silhouette_score\n",
    "import matplotlib.pyplot as plt\n",
    "import seaborn as sns\n",
    "\n",
    "# Cargar dataset\n",
    "df = pd.read_csv(\"/mnt/data/datasets_clustering_reales/Tweets_Geolocalizados.csv\")\n",
    "df.head()"
   ]
  },
  {
   "cell_type": "markdown",
   "id": "698b9150",
   "metadata": {},
   "source": [
    "## Paso 2: Preprocesamiento"
   ]
  },
  {
   "cell_type": "code",
   "execution_count": null,
   "id": "814fc3de",
   "metadata": {},
   "outputs": [],
   "source": [
    "# Normalización\n",
    "scaler = StandardScaler()\n",
    "X = scaler.fit_transform(df)"
   ]
  },
  {
   "cell_type": "markdown",
   "id": "264c9115",
   "metadata": {},
   "source": [
    "## Paso 3: Clustering con DBSCAN"
   ]
  },
  {
   "cell_type": "code",
   "execution_count": null,
   "id": "2bd1293b",
   "metadata": {},
   "outputs": [],
   "source": [
    "dbscan = DBSCAN(eps=0.5, min_samples=5)\n",
    "labels_dbscan = dbscan.fit_predict(X)\n",
    "df['DBSCAN'] = labels_dbscan"
   ]
  },
  {
   "cell_type": "markdown",
   "id": "3b4c0e99",
   "metadata": {},
   "source": [
    "## Paso 4: Clustering con Mean-Shift"
   ]
  },
  {
   "cell_type": "code",
   "execution_count": null,
   "id": "f659cd1c",
   "metadata": {},
   "outputs": [],
   "source": [
    "bandwidth = estimate_bandwidth(X, quantile=0.2, n_samples=1000)\n",
    "ms = MeanShift(bandwidth=bandwidth, bin_seeding=True)\n",
    "labels_ms = ms.fit_predict(X)\n",
    "df['MeanShift'] = labels_ms"
   ]
  },
  {
   "cell_type": "markdown",
   "id": "94a1d9f1",
   "metadata": {},
   "source": [
    "## Paso 5: Visualización de Resultados"
   ]
  },
  {
   "cell_type": "code",
   "execution_count": null,
   "id": "dea50757",
   "metadata": {},
   "outputs": [],
   "source": [
    "plt.figure(figsize=(12,5))\n",
    "plt.subplot(1,2,1)\n",
    "sns.scatterplot(x=df.iloc[:,0], y=df.iloc[:,1], hue=df['DBSCAN'], palette='tab10')\n",
    "plt.title(\"DBSCAN\")\n",
    "\n",
    "plt.subplot(1,2,2)\n",
    "sns.scatterplot(x=df.iloc[:,0], y=df.iloc[:,1], hue=df['MeanShift'], palette='tab10')\n",
    "plt.title(\"Mean-Shift\")\n",
    "plt.show()"
   ]
  },
  {
   "cell_type": "markdown",
   "id": "8e012e89",
   "metadata": {},
   "source": [
    "## Paso 6: Evaluación con Silhouette Score"
   ]
  },
  {
   "cell_type": "code",
   "execution_count": null,
   "id": "54abbe75",
   "metadata": {},
   "outputs": [],
   "source": [
    "def safe_silhouette(X, labels):\n",
    "    n_clusters = len(set(labels)) - (1 if -1 in labels else 0)\n",
    "    return silhouette_score(X, labels) if n_clusters > 1 else -1\n",
    "\n",
    "score_dbscan = safe_silhouette(X, df['DBSCAN'])\n",
    "score_meanshift = safe_silhouette(X, df['MeanShift'])\n",
    "\n",
    "print(f\"Silhouette DBSCAN: {score_dbscan:.4f}\")\n",
    "print(f\"Silhouette Mean-Shift: {score_meanshift:.4f}\")"
   ]
  },
  {
   "cell_type": "markdown",
   "id": "f0b0a8db",
   "metadata": {},
   "source": [
    "## Paso 7: Conclusiones"
   ]
  },
  {
   "cell_type": "code",
   "execution_count": null,
   "id": "307cdaab",
   "metadata": {},
   "outputs": [],
   "source": [
    "if score_dbscan > score_meanshift:\n",
    "    print(\"DBSCAN obtuvo un mejor desempeño en este caso.\")\n",
    "elif score_meanshift > score_dbscan:\n",
    "    print(\"Mean-Shift obtuvo un mejor desempeño en este caso.\")\n",
    "else:\n",
    "    print(\"Ambos algoritmos obtuvieron resultados similares o no fueron efectivos.\")"
   ]
  }
 ],
 "metadata": {},
 "nbformat": 4,
 "nbformat_minor": 5
}
